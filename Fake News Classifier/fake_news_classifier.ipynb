{
  "nbformat": 4,
  "nbformat_minor": 0,
  "metadata": {
    "colab": {
      "name": "fake_news_classifier.ipynb",
      "provenance": []
    },
    "kernelspec": {
      "name": "python3",
      "display_name": "Python 3"
    },
    "language_info": {
      "name": "python"
    }
  },
  "cells": [
    {
      "cell_type": "markdown",
      "metadata": {
        "id": "B2-5i7-s95vN"
      },
      "source": [
        "## Fake News Classifier"
      ]
    },
    {
      "cell_type": "markdown",
      "metadata": {
        "id": "WJJBseKDv7uk"
      },
      "source": [
        "Importing the necessary libraries"
      ]
    },
    {
      "cell_type": "code",
      "metadata": {
        "id": "Kh7fJLsLv_Vv"
      },
      "source": [
        "import numpy as np\n",
        "import pandas as pd "
      ],
      "execution_count": 1,
      "outputs": []
    },
    {
      "cell_type": "markdown",
      "metadata": {
        "id": "zy1l49alwQyx"
      },
      "source": [
        "Loading the dataset"
      ]
    },
    {
      "cell_type": "code",
      "metadata": {
        "colab": {
          "base_uri": "https://localhost:8080/",
          "height": 202
        },
        "id": "X0pJTmhxwSJL",
        "outputId": "5e95a74b-cba7-4eb4-de58-15851854c343"
      },
      "source": [
        "df = pd.read_csv('train.csv')\n",
        "df.head()"
      ],
      "execution_count": 2,
      "outputs": [
        {
          "output_type": "execute_result",
          "data": {
            "text/html": [
              "<div>\n",
              "<style scoped>\n",
              "    .dataframe tbody tr th:only-of-type {\n",
              "        vertical-align: middle;\n",
              "    }\n",
              "\n",
              "    .dataframe tbody tr th {\n",
              "        vertical-align: top;\n",
              "    }\n",
              "\n",
              "    .dataframe thead th {\n",
              "        text-align: right;\n",
              "    }\n",
              "</style>\n",
              "<table border=\"1\" class=\"dataframe\">\n",
              "  <thead>\n",
              "    <tr style=\"text-align: right;\">\n",
              "      <th></th>\n",
              "      <th>id</th>\n",
              "      <th>title</th>\n",
              "      <th>author</th>\n",
              "      <th>text</th>\n",
              "      <th>label</th>\n",
              "    </tr>\n",
              "  </thead>\n",
              "  <tbody>\n",
              "    <tr>\n",
              "      <th>0</th>\n",
              "      <td>0</td>\n",
              "      <td>House Dem Aide: We Didn’t Even See Comey’s Let...</td>\n",
              "      <td>Darrell Lucus</td>\n",
              "      <td>House Dem Aide: We Didn’t Even See Comey’s Let...</td>\n",
              "      <td>1</td>\n",
              "    </tr>\n",
              "    <tr>\n",
              "      <th>1</th>\n",
              "      <td>1</td>\n",
              "      <td>FLYNN: Hillary Clinton, Big Woman on Campus - ...</td>\n",
              "      <td>Daniel J. Flynn</td>\n",
              "      <td>Ever get the feeling your life circles the rou...</td>\n",
              "      <td>0</td>\n",
              "    </tr>\n",
              "    <tr>\n",
              "      <th>2</th>\n",
              "      <td>2</td>\n",
              "      <td>Why the Truth Might Get You Fired</td>\n",
              "      <td>Consortiumnews.com</td>\n",
              "      <td>Why the Truth Might Get You Fired October 29, ...</td>\n",
              "      <td>1</td>\n",
              "    </tr>\n",
              "    <tr>\n",
              "      <th>3</th>\n",
              "      <td>3</td>\n",
              "      <td>15 Civilians Killed In Single US Airstrike Hav...</td>\n",
              "      <td>Jessica Purkiss</td>\n",
              "      <td>Videos 15 Civilians Killed In Single US Airstr...</td>\n",
              "      <td>1</td>\n",
              "    </tr>\n",
              "    <tr>\n",
              "      <th>4</th>\n",
              "      <td>4</td>\n",
              "      <td>Iranian woman jailed for fictional unpublished...</td>\n",
              "      <td>Howard Portnoy</td>\n",
              "      <td>Print \\nAn Iranian woman has been sentenced to...</td>\n",
              "      <td>1</td>\n",
              "    </tr>\n",
              "  </tbody>\n",
              "</table>\n",
              "</div>"
            ],
            "text/plain": [
              "   id  ... label\n",
              "0   0  ...     1\n",
              "1   1  ...     0\n",
              "2   2  ...     1\n",
              "3   3  ...     1\n",
              "4   4  ...     1\n",
              "\n",
              "[5 rows x 5 columns]"
            ]
          },
          "metadata": {},
          "execution_count": 2
        }
      ]
    },
    {
      "cell_type": "markdown",
      "metadata": {
        "id": "vpDhRLVrw3mx"
      },
      "source": [
        "Understanding the dataset"
      ]
    },
    {
      "cell_type": "code",
      "metadata": {
        "colab": {
          "base_uri": "https://localhost:8080/"
        },
        "id": "0-ypoQVewiJM",
        "outputId": "01bc8a06-ca77-454d-dde9-3950dea4ebf5"
      },
      "source": [
        "df.shape"
      ],
      "execution_count": 3,
      "outputs": [
        {
          "output_type": "execute_result",
          "data": {
            "text/plain": [
              "(20800, 5)"
            ]
          },
          "metadata": {},
          "execution_count": 3
        }
      ]
    },
    {
      "cell_type": "code",
      "metadata": {
        "colab": {
          "base_uri": "https://localhost:8080/"
        },
        "id": "DDfBSCxnwjpn",
        "outputId": "e1f81558-ad04-4fbc-b763-239a4ae8ae35"
      },
      "source": [
        "df.info()"
      ],
      "execution_count": 4,
      "outputs": [
        {
          "output_type": "stream",
          "name": "stdout",
          "text": [
            "<class 'pandas.core.frame.DataFrame'>\n",
            "RangeIndex: 20800 entries, 0 to 20799\n",
            "Data columns (total 5 columns):\n",
            " #   Column  Non-Null Count  Dtype \n",
            "---  ------  --------------  ----- \n",
            " 0   id      20800 non-null  int64 \n",
            " 1   title   20242 non-null  object\n",
            " 2   author  18843 non-null  object\n",
            " 3   text    20761 non-null  object\n",
            " 4   label   20800 non-null  int64 \n",
            "dtypes: int64(2), object(3)\n",
            "memory usage: 812.6+ KB\n"
          ]
        }
      ]
    },
    {
      "cell_type": "code",
      "metadata": {
        "colab": {
          "base_uri": "https://localhost:8080/",
          "height": 294
        },
        "id": "4FX2ap3xxCB8",
        "outputId": "a7e35e66-23e2-4452-b94d-55078f2fda12"
      },
      "source": [
        "df.describe()"
      ],
      "execution_count": 5,
      "outputs": [
        {
          "output_type": "execute_result",
          "data": {
            "text/html": [
              "<div>\n",
              "<style scoped>\n",
              "    .dataframe tbody tr th:only-of-type {\n",
              "        vertical-align: middle;\n",
              "    }\n",
              "\n",
              "    .dataframe tbody tr th {\n",
              "        vertical-align: top;\n",
              "    }\n",
              "\n",
              "    .dataframe thead th {\n",
              "        text-align: right;\n",
              "    }\n",
              "</style>\n",
              "<table border=\"1\" class=\"dataframe\">\n",
              "  <thead>\n",
              "    <tr style=\"text-align: right;\">\n",
              "      <th></th>\n",
              "      <th>id</th>\n",
              "      <th>label</th>\n",
              "    </tr>\n",
              "  </thead>\n",
              "  <tbody>\n",
              "    <tr>\n",
              "      <th>count</th>\n",
              "      <td>20800.000000</td>\n",
              "      <td>20800.000000</td>\n",
              "    </tr>\n",
              "    <tr>\n",
              "      <th>mean</th>\n",
              "      <td>10399.500000</td>\n",
              "      <td>0.500625</td>\n",
              "    </tr>\n",
              "    <tr>\n",
              "      <th>std</th>\n",
              "      <td>6004.587135</td>\n",
              "      <td>0.500012</td>\n",
              "    </tr>\n",
              "    <tr>\n",
              "      <th>min</th>\n",
              "      <td>0.000000</td>\n",
              "      <td>0.000000</td>\n",
              "    </tr>\n",
              "    <tr>\n",
              "      <th>25%</th>\n",
              "      <td>5199.750000</td>\n",
              "      <td>0.000000</td>\n",
              "    </tr>\n",
              "    <tr>\n",
              "      <th>50%</th>\n",
              "      <td>10399.500000</td>\n",
              "      <td>1.000000</td>\n",
              "    </tr>\n",
              "    <tr>\n",
              "      <th>75%</th>\n",
              "      <td>15599.250000</td>\n",
              "      <td>1.000000</td>\n",
              "    </tr>\n",
              "    <tr>\n",
              "      <th>max</th>\n",
              "      <td>20799.000000</td>\n",
              "      <td>1.000000</td>\n",
              "    </tr>\n",
              "  </tbody>\n",
              "</table>\n",
              "</div>"
            ],
            "text/plain": [
              "                 id         label\n",
              "count  20800.000000  20800.000000\n",
              "mean   10399.500000      0.500625\n",
              "std     6004.587135      0.500012\n",
              "min        0.000000      0.000000\n",
              "25%     5199.750000      0.000000\n",
              "50%    10399.500000      1.000000\n",
              "75%    15599.250000      1.000000\n",
              "max    20799.000000      1.000000"
            ]
          },
          "metadata": {},
          "execution_count": 5
        }
      ]
    },
    {
      "cell_type": "code",
      "metadata": {
        "colab": {
          "base_uri": "https://localhost:8080/",
          "height": 110
        },
        "id": "TO94-SFQxDyL",
        "outputId": "878763dc-814f-46d8-8cd5-e7ae99f7188d"
      },
      "source": [
        "df.corr()"
      ],
      "execution_count": 6,
      "outputs": [
        {
          "output_type": "execute_result",
          "data": {
            "text/html": [
              "<div>\n",
              "<style scoped>\n",
              "    .dataframe tbody tr th:only-of-type {\n",
              "        vertical-align: middle;\n",
              "    }\n",
              "\n",
              "    .dataframe tbody tr th {\n",
              "        vertical-align: top;\n",
              "    }\n",
              "\n",
              "    .dataframe thead th {\n",
              "        text-align: right;\n",
              "    }\n",
              "</style>\n",
              "<table border=\"1\" class=\"dataframe\">\n",
              "  <thead>\n",
              "    <tr style=\"text-align: right;\">\n",
              "      <th></th>\n",
              "      <th>id</th>\n",
              "      <th>label</th>\n",
              "    </tr>\n",
              "  </thead>\n",
              "  <tbody>\n",
              "    <tr>\n",
              "      <th>id</th>\n",
              "      <td>1.00000</td>\n",
              "      <td>0.00114</td>\n",
              "    </tr>\n",
              "    <tr>\n",
              "      <th>label</th>\n",
              "      <td>0.00114</td>\n",
              "      <td>1.00000</td>\n",
              "    </tr>\n",
              "  </tbody>\n",
              "</table>\n",
              "</div>"
            ],
            "text/plain": [
              "            id    label\n",
              "id     1.00000  0.00114\n",
              "label  0.00114  1.00000"
            ]
          },
          "metadata": {},
          "execution_count": 6
        }
      ]
    },
    {
      "cell_type": "code",
      "metadata": {
        "colab": {
          "base_uri": "https://localhost:8080/"
        },
        "id": "U1bVbdXnxIlX",
        "outputId": "5413bf38-102a-41e3-b672-b7d2f8f2eff3"
      },
      "source": [
        "df.nunique()"
      ],
      "execution_count": 7,
      "outputs": [
        {
          "output_type": "execute_result",
          "data": {
            "text/plain": [
              "id        20800\n",
              "title     19803\n",
              "author     4201\n",
              "text      20386\n",
              "label         2\n",
              "dtype: int64"
            ]
          },
          "metadata": {},
          "execution_count": 7
        }
      ]
    },
    {
      "cell_type": "code",
      "metadata": {
        "colab": {
          "base_uri": "https://localhost:8080/"
        },
        "id": "wzLMKPLMxKSb",
        "outputId": "22f60605-4967-4947-f0b2-13d84cba92a5"
      },
      "source": [
        "df.isnull().sum()"
      ],
      "execution_count": 8,
      "outputs": [
        {
          "output_type": "execute_result",
          "data": {
            "text/plain": [
              "id           0\n",
              "title      558\n",
              "author    1957\n",
              "text        39\n",
              "label        0\n",
              "dtype: int64"
            ]
          },
          "metadata": {},
          "execution_count": 8
        }
      ]
    },
    {
      "cell_type": "code",
      "metadata": {
        "colab": {
          "base_uri": "https://localhost:8080/"
        },
        "id": "OAKfqCOaxNzP",
        "outputId": "ebbeae97-777d-442a-954c-6d35acdcf6a4"
      },
      "source": [
        "df.duplicated().sum()"
      ],
      "execution_count": 9,
      "outputs": [
        {
          "output_type": "execute_result",
          "data": {
            "text/plain": [
              "0"
            ]
          },
          "metadata": {},
          "execution_count": 9
        }
      ]
    },
    {
      "cell_type": "markdown",
      "metadata": {
        "id": "tLDNPEYB3IEC"
      },
      "source": [
        "Preprocessing the data"
      ]
    },
    {
      "cell_type": "code",
      "metadata": {
        "id": "faFLXKAoxgnW"
      },
      "source": [
        "df = df.fillna('')"
      ],
      "execution_count": 10,
      "outputs": []
    },
    {
      "cell_type": "code",
      "metadata": {
        "id": "E5N-LqLJyDOI"
      },
      "source": [
        "df['news'] = df['author'] + df['title']"
      ],
      "execution_count": 11,
      "outputs": []
    },
    {
      "cell_type": "code",
      "metadata": {
        "colab": {
          "base_uri": "https://localhost:8080/"
        },
        "id": "dq6JEUZhyrXS",
        "outputId": "f58355a4-316f-4283-91e6-70b27c92e05d"
      },
      "source": [
        "import re\n",
        "import nltk\n",
        "from nltk.corpus import stopwords\n",
        "from nltk.stem.porter import PorterStemmer\n",
        "nltk.download('stopwords')"
      ],
      "execution_count": 12,
      "outputs": [
        {
          "output_type": "stream",
          "name": "stdout",
          "text": [
            "[nltk_data] Downloading package stopwords to /root/nltk_data...\n",
            "[nltk_data]   Package stopwords is already up-to-date!\n"
          ]
        },
        {
          "output_type": "execute_result",
          "data": {
            "text/plain": [
              "True"
            ]
          },
          "metadata": {},
          "execution_count": 12
        }
      ]
    },
    {
      "cell_type": "code",
      "metadata": {
        "id": "EulyyJZhy45J"
      },
      "source": [
        "ps = PorterStemmer()"
      ],
      "execution_count": 13,
      "outputs": []
    },
    {
      "cell_type": "code",
      "metadata": {
        "id": "I3ODfh5FzGKw"
      },
      "source": [
        "def stem(text):\n",
        "  stemmed_text = text.lower()\n",
        "  stemmed_text = re.sub('[^a-zA-Z]', ' ', stemmed_text)\n",
        "  stemmed_text = stemmed_text.split()\n",
        "  stemmed_text = [ps.stem(word) for word in stemmed_text if not word in stopwords.words('english')]\n",
        "  stemmed_text = ' '.join(stemmed_text)\n",
        "  return stemmed_text"
      ],
      "execution_count": 14,
      "outputs": []
    },
    {
      "cell_type": "code",
      "metadata": {
        "id": "qZgdHYKl07Zl"
      },
      "source": [
        "df['news'] = df['news'].apply(stem)"
      ],
      "execution_count": 15,
      "outputs": []
    },
    {
      "cell_type": "code",
      "metadata": {
        "colab": {
          "base_uri": "https://localhost:8080/"
        },
        "id": "GC5314_41VPr",
        "outputId": "d62d4f6d-78ef-4260-a4c9-88dee88d0853"
      },
      "source": [
        "print(df['news'])"
      ],
      "execution_count": 16,
      "outputs": [
        {
          "output_type": "stream",
          "name": "stdout",
          "text": [
            "0        darrel lucushous dem aid even see comey letter...\n",
            "1        daniel j flynnflynn hillari clinton big woman ...\n",
            "2                consortiumnew comwhi truth might get fire\n",
            "3        jessica purkiss civilian kill singl us airstri...\n",
            "4        howard portnoyiranian woman jail fiction unpub...\n",
            "                               ...                        \n",
            "20795    jerom hudsonrapp trump poster child white supr...\n",
            "20796    benjamin hoffmann f l playoff schedul matchup ...\n",
            "20797    michael j de la merc rachel abramsmaci said re...\n",
            "20798    alex ansarynato russia hold parallel exercis b...\n",
            "20799                        david swansonwhat keep f aliv\n",
            "Name: news, Length: 20800, dtype: object\n"
          ]
        }
      ]
    },
    {
      "cell_type": "code",
      "metadata": {
        "id": "nv0FMPzq1oJ_"
      },
      "source": [
        "X = df['news'].values\n",
        "y = df['label'].values"
      ],
      "execution_count": 17,
      "outputs": []
    },
    {
      "cell_type": "code",
      "metadata": {
        "colab": {
          "base_uri": "https://localhost:8080/"
        },
        "id": "wwYiuNQV2Boc",
        "outputId": "b56b9e17-3366-46b4-8e9e-3667062ea313"
      },
      "source": [
        "print(X)"
      ],
      "execution_count": 18,
      "outputs": [
        {
          "output_type": "stream",
          "name": "stdout",
          "text": [
            "['darrel lucushous dem aid even see comey letter jason chaffetz tweet'\n",
            " 'daniel j flynnflynn hillari clinton big woman campu breitbart'\n",
            " 'consortiumnew comwhi truth might get fire' ...\n",
            " 'michael j de la merc rachel abramsmaci said receiv takeov approach hudson bay new york time'\n",
            " 'alex ansarynato russia hold parallel exercis balkan'\n",
            " 'david swansonwhat keep f aliv']\n"
          ]
        }
      ]
    },
    {
      "cell_type": "code",
      "metadata": {
        "colab": {
          "base_uri": "https://localhost:8080/"
        },
        "id": "7UegJ0qm2CdF",
        "outputId": "03fbfa78-054c-400a-c38f-5db9dc982c13"
      },
      "source": [
        "print(y)"
      ],
      "execution_count": 19,
      "outputs": [
        {
          "output_type": "stream",
          "name": "stdout",
          "text": [
            "[1 0 1 ... 0 1 1]\n"
          ]
        }
      ]
    },
    {
      "cell_type": "markdown",
      "metadata": {
        "id": "mPRloRda3czC"
      },
      "source": [
        "Transforming text to feature vectors"
      ]
    },
    {
      "cell_type": "code",
      "metadata": {
        "id": "WbXsZjRA2RgH"
      },
      "source": [
        "from sklearn.feature_extraction.text import TfidfVectorizer"
      ],
      "execution_count": 20,
      "outputs": []
    },
    {
      "cell_type": "code",
      "metadata": {
        "colab": {
          "base_uri": "https://localhost:8080/"
        },
        "id": "52XAWrv92Xrq",
        "outputId": "2890ebd3-1d66-455a-a3dd-0313a5b7bee4"
      },
      "source": [
        "tfidf = TfidfVectorizer()\n",
        "tfidf.fit(X)"
      ],
      "execution_count": 21,
      "outputs": [
        {
          "output_type": "execute_result",
          "data": {
            "text/plain": [
              "TfidfVectorizer()"
            ]
          },
          "metadata": {},
          "execution_count": 21
        }
      ]
    },
    {
      "cell_type": "code",
      "metadata": {
        "colab": {
          "base_uri": "https://localhost:8080/"
        },
        "id": "iKsz5p2D23UZ",
        "outputId": "81bdd6d8-d1e5-4aad-8094-909a3e170fe6"
      },
      "source": [
        "X = tfidf.transform(X)\n",
        "print(X)"
      ],
      "execution_count": 22,
      "outputs": [
        {
          "output_type": "stream",
          "name": "stdout",
          "text": [
            "  (0, 26340)\t0.28088379401596425\n",
            "  (0, 22724)\t0.2552336018069161\n",
            "  (0, 15019)\t0.43006226759639316\n",
            "  (0, 14555)\t0.29177259684200296\n",
            "  (0, 12782)\t0.24619727512767195\n",
            "  (0, 8022)\t0.23133661742488731\n",
            "  (0, 6273)\t0.2839932825877813\n",
            "  (0, 5969)\t0.35488202138141456\n",
            "  (0, 5006)\t0.2472595823572816\n",
            "  (0, 4211)\t0.3625320323150658\n",
            "  (0, 578)\t0.2694167078545385\n",
            "  (1, 27923)\t0.36911845953845024\n",
            "  (1, 11313)\t0.24166773097712638\n",
            "  (1, 8772)\t0.5258635625386451\n",
            "  (1, 5916)\t0.31810058109638056\n",
            "  (1, 4767)\t0.23338756776626793\n",
            "  (1, 3859)\t0.45980466668763476\n",
            "  (1, 3281)\t0.18652439327549428\n",
            "  (1, 2622)\t0.3562953366945267\n",
            "  (2, 26235)\t0.3665032495181434\n",
            "  (2, 16361)\t0.43295215406038445\n",
            "  (2, 9454)\t0.30743020569262086\n",
            "  (2, 8567)\t0.3411947414020896\n",
            "  (2, 5240)\t0.40440534260277944\n",
            "  (2, 5121)\t0.5511414848555652\n",
            "  :\t:\n",
            "  (20797, 25776)\t0.08220218573989037\n",
            "  (20797, 25319)\t0.3119640221826561\n",
            "  (20797, 22086)\t0.24902354987792552\n",
            "  (20797, 20778)\t0.2729578683228216\n",
            "  (20797, 20493)\t0.249994989010826\n",
            "  (20797, 17505)\t0.08090456115716123\n",
            "  (20797, 16315)\t0.1785200594251359\n",
            "  (20797, 16217)\t0.3273246827604847\n",
            "  (20797, 14104)\t0.22761807337911874\n",
            "  (20797, 11692)\t0.2992170910232368\n",
            "  (20797, 6088)\t0.21253094503918346\n",
            "  (20797, 2257)\t0.3357782642976524\n",
            "  (20797, 1249)\t0.3072223353708335\n",
            "  (20797, 72)\t0.38829670969848273\n",
            "  (20798, 21937)\t0.2284042880065583\n",
            "  (20798, 18760)\t0.43981843518920394\n",
            "  (20798, 11434)\t0.3219420705942853\n",
            "  (20798, 8095)\t0.40266358130888547\n",
            "  (20798, 1921)\t0.43981843518920394\n",
            "  (20798, 1081)\t0.4638903157542853\n",
            "  (20798, 697)\t0.2827933658592677\n",
            "  (20799, 25148)\t0.6713314187498636\n",
            "  (20799, 13329)\t0.4138037375613909\n",
            "  (20799, 6018)\t0.345590335823275\n",
            "  (20799, 732)\t0.5085743925573473\n"
          ]
        }
      ]
    },
    {
      "cell_type": "markdown",
      "metadata": {
        "id": "N1_NrjqL32Yu"
      },
      "source": [
        "Splitting the dataset into training and test sets"
      ]
    },
    {
      "cell_type": "code",
      "metadata": {
        "id": "SjvP2jM43DyS"
      },
      "source": [
        "from sklearn.model_selection import train_test_split\n",
        "X_train, X_test, y_train, y_test = train_test_split(X, y, test_size = 0.2, stratify = y, random_state = 30) "
      ],
      "execution_count": 29,
      "outputs": []
    },
    {
      "cell_type": "code",
      "metadata": {
        "colab": {
          "base_uri": "https://localhost:8080/"
        },
        "id": "534bkx2q4H0W",
        "outputId": "65f03d80-f9f5-46ae-a2c2-ed3de9e30241"
      },
      "source": [
        "print(X_train)"
      ],
      "execution_count": 30,
      "outputs": [
        {
          "output_type": "stream",
          "name": "stdout",
          "text": [
            "  (0, 23357)\t0.39992631028411935\n",
            "  (0, 20871)\t0.29027243962615684\n",
            "  (0, 20174)\t0.33171410236161913\n",
            "  (0, 18911)\t0.26581742145445236\n",
            "  (0, 16315)\t0.2154886360466791\n",
            "  (0, 14404)\t0.4687065903057726\n",
            "  (0, 12230)\t0.32243377668965556\n",
            "  (0, 9165)\t0.28342164160915706\n",
            "  (0, 3520)\t0.32337668052604773\n",
            "  (0, 3281)\t0.14185430916820835\n",
            "  (1, 26077)\t0.207471237546011\n",
            "  (1, 25720)\t0.18303373905191214\n",
            "  (1, 25600)\t0.1785380069014686\n",
            "  (1, 25596)\t0.1704401916767383\n",
            "  (1, 19815)\t0.23961724328737624\n",
            "  (1, 19152)\t0.1949365206914168\n",
            "  (1, 18155)\t0.16429401909894692\n",
            "  (1, 14356)\t0.16711499520231168\n",
            "  (1, 12980)\t0.13569311492323796\n",
            "  (1, 12564)\t0.1760493572669373\n",
            "  (1, 10220)\t0.29315345848847846\n",
            "  (1, 10185)\t0.1931483492024067\n",
            "  (1, 10181)\t0.17959744016662496\n",
            "  (1, 9670)\t0.1579434161427702\n",
            "  (1, 8866)\t0.19635506403265227\n",
            "  :\t:\n",
            "  (16635, 4874)\t0.49006666977001817\n",
            "  (16635, 2664)\t0.373290228907045\n",
            "  (16635, 1972)\t0.373290228907045\n",
            "  (16636, 27608)\t1.0\n",
            "  (16637, 26353)\t0.3817762653342638\n",
            "  (16637, 26207)\t0.16491604137735344\n",
            "  (16637, 21153)\t0.49062774404716725\n",
            "  (16637, 6903)\t0.25995972621603514\n",
            "  (16637, 4789)\t0.45418039652072834\n",
            "  (16637, 1762)\t0.5589947293642316\n",
            "  (16638, 27552)\t0.29206574735078056\n",
            "  (16638, 27281)\t0.41423104996411103\n",
            "  (16638, 22770)\t0.37038255157093747\n",
            "  (16638, 16395)\t0.33656607230306795\n",
            "  (16638, 15379)\t0.2889460092740074\n",
            "  (16638, 7110)\t0.4267008161990154\n",
            "  (16638, 5307)\t0.37038255157093747\n",
            "  (16638, 5056)\t0.29983939635723206\n",
            "  (16639, 24411)\t0.2435984257390806\n",
            "  (16639, 22191)\t0.36583976199203017\n",
            "  (16639, 19412)\t0.267492400187005\n",
            "  (16639, 17743)\t0.5151276662981614\n",
            "  (16639, 12980)\t0.23843920513011102\n",
            "  (16639, 3859)\t0.38432097477316063\n",
            "  (16639, 2705)\t0.5151276662981614\n"
          ]
        }
      ]
    },
    {
      "cell_type": "code",
      "metadata": {
        "colab": {
          "base_uri": "https://localhost:8080/"
        },
        "id": "kPuCHVDL4qS8",
        "outputId": "94756f98-76ec-4f95-d4a8-947f3e7c7e97"
      },
      "source": [
        "print(y_train)"
      ],
      "execution_count": 31,
      "outputs": [
        {
          "output_type": "stream",
          "name": "stdout",
          "text": [
            "[0 1 1 ... 1 1 0]\n"
          ]
        }
      ]
    },
    {
      "cell_type": "markdown",
      "metadata": {
        "id": "73cN7lGd4uDU"
      },
      "source": [
        "Training and evaluating the models"
      ]
    },
    {
      "cell_type": "code",
      "metadata": {
        "id": "t9sfltE75Pcu"
      },
      "source": [
        "from sklearn.linear_model import LogisticRegression\n",
        "from sklearn.svm import SVC\n",
        "from sklearn.metrics import accuracy_score"
      ],
      "execution_count": 35,
      "outputs": []
    },
    {
      "cell_type": "code",
      "metadata": {
        "id": "M9b8Udxh6i2D"
      },
      "source": [
        "lr = LogisticRegression()\n",
        "svm = SVC()"
      ],
      "execution_count": 36,
      "outputs": []
    },
    {
      "cell_type": "code",
      "metadata": {
        "colab": {
          "base_uri": "https://localhost:8080/"
        },
        "id": "geWamdmC4vjp",
        "outputId": "4fcbbaa0-5f3e-44ed-ecb6-80f8eb316334"
      },
      "source": [
        "models = [lr, svm]\n",
        "scores = []\n",
        "\n",
        "for model in models:\n",
        "  model.fit(X_train, y_train)\n",
        "  y_pred = model.predict(X_test)\n",
        "  scores.append(accuracy_score(y_test, y_pred))\n",
        "  print(\"Accuracy of \" + type(model).__name__ + \" is\", accuracy_score(y_test, y_pred))"
      ],
      "execution_count": 37,
      "outputs": [
        {
          "output_type": "stream",
          "name": "stdout",
          "text": [
            "Accuracy of LogisticRegression is 0.9516826923076923\n",
            "Accuracy of SVC is 0.9596153846153846\n"
          ]
        }
      ]
    },
    {
      "cell_type": "markdown",
      "metadata": {
        "id": "yugifu9X9SHN"
      },
      "source": [
        "Fake News Classifier"
      ]
    },
    {
      "cell_type": "code",
      "metadata": {
        "colab": {
          "base_uri": "https://localhost:8080/"
        },
        "id": "vh5GrBvO85rn",
        "outputId": "12e906e1-a95e-4154-84c2-1c7e940ab748"
      },
      "source": [
        "news = X_test[0]\n",
        "prediction = svm.predict(news)\n",
        "print(\"The news is real.\" if prediction[0] == 0 else \"The news is fake.\")"
      ],
      "execution_count": 39,
      "outputs": [
        {
          "output_type": "stream",
          "name": "stdout",
          "text": [
            "The news is real.\n"
          ]
        }
      ]
    }
  ]
}